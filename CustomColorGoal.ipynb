{
 "cells": [
  {
   "cell_type": "code",
   "execution_count": 433,
   "id": "5a30f2b5",
   "metadata": {},
   "outputs": [],
   "source": [
    "from gym_minigrid.wrappers import *\n",
    "from gym_minigrid.minigrid import *\n",
    "import gym\n",
    "\n",
    "from stable_baselines3 import A2C, PPO\n",
    "from stable_baselines3.common.vec_env import DummyVecEnv, SubprocVecEnv\n",
    "from stable_baselines3.common.utils import set_random_seed\n",
    "from stable_baselines3.common.evaluation import evaluate_policy\n",
    "\n",
    "import numpy as np\n",
    "import torch\n",
    "import torch.nn as nn\n",
    "\n",
    "import matplotlib.pyplot as plt\n",
    "%matplotlib inline"
   ]
  },
  {
   "cell_type": "markdown",
   "id": "9bc4271f",
   "metadata": {},
   "source": [
    "# Define possible colors"
   ]
  },
  {
   "cell_type": "code",
   "execution_count": 372,
   "id": "aea1daf6",
   "metadata": {},
   "outputs": [],
   "source": [
    "COLORS = {\n",
    "    'red'   : np.array([255, 0, 0]),\n",
    "    'green' : np.array([0, 255, 0]),\n",
    "    'blue'  : np.array([0, 0, 255]),\n",
    "    'purple': np.array([112, 39, 195]),\n",
    "    'yellow': np.array([255, 255, 0]),\n",
    "    'grey'  : np.array([100, 100, 100])\n",
    "}"
   ]
  },
  {
   "cell_type": "markdown",
   "id": "14457083",
   "metadata": {},
   "source": [
    "# Custom environment for first agent"
   ]
  },
  {
   "cell_type": "code",
   "execution_count": 175,
   "id": "b3bbda3b",
   "metadata": {},
   "outputs": [],
   "source": [
    "class EmptyRandomEnv(MiniGridEnv):\n",
    "    \"\"\"\n",
    "    Empty grid environment, no obstacles, sparse reward\n",
    "    \"\"\"\n",
    "\n",
    "    def __init__(self, size=16):\n",
    "       \n",
    "        super().__init__(\n",
    "            grid_size=size,\n",
    "            max_steps=4*size*size,\n",
    "            # Set this to True for maximum speed\n",
    "            see_through_walls=True\n",
    "        )\n",
    "\n",
    "    def _gen_grid(self, width, height):\n",
    "        # Create an empty grid\n",
    "        self.grid = Grid(width, height)\n",
    "\n",
    "        # Generate the surrounding walls\n",
    "        self.grid.wall_rect(0, 0, width, height)\n",
    "\n",
    "        # Place the agent\n",
    "        self.place_agent()\n",
    "        # Place object\n",
    "        goal  = Goal()\n",
    "        self.place_obj(goal)\n",
    "        self.mission = \"get to the green goal square\""
   ]
  },
  {
   "cell_type": "markdown",
   "id": "9b1de377",
   "metadata": {},
   "source": [
    "# Wrapper to change goal color in observation and to render it"
   ]
  },
  {
   "cell_type": "code",
   "execution_count": 487,
   "id": "afc2f8df",
   "metadata": {},
   "outputs": [],
   "source": [
    "class RGBCustomColorPartialObsWrapper(gym.core.ObservationWrapper):\n",
    "    def  __init__(self, env, goal_color=\"green\", tile_size=16):\n",
    "        super().__init__(env)\n",
    "        self.goal_color = goal_color\n",
    "    \n",
    "    def observation(self, obs):\n",
    "        # Goal natural color is [76, 255, 76] if highlighted\n",
    "        color = COLORS[self.goal_color]\n",
    "        highlight_color = color + 0.3 * (np.array((255, 255, 255), dtype=np.uint8) - color)\n",
    "        highlight_color = highlight_color.clip(0, 255).astype(np.uint8)\n",
    "        \n",
    "        env = self.unwrapped\n",
    "        rgb_img_partial = env.get_obs_render(\n",
    "                obs['image'],\n",
    "                tile_size=20\n",
    "            )\n",
    "\n",
    "        X, Y = np.where(np.all(rgb_img_partial==[76,255,76], axis=-1))\n",
    "        rgb_img_partial[X, Y] = highlight_color\n",
    "\n",
    "        return rgb_img_partial\n",
    "    \n",
    "    def render_img(self):\n",
    "        color = COLORS[self.goal_color]\n",
    "        \n",
    "        img = self.render(mode=\"rgb_array\")\n",
    "        X1, Y1 = np.where(np.all(img==[0,255,0], axis=-1))\n",
    "        X2, Y2 = np.where(np.all(img==[76,255,76], axis=-1))\n",
    "        img[X1, Y1] = color\n",
    "        highlight_color = color + 0.3 * (np.array((255, 255, 255), dtype=np.uint8) - color)\n",
    "        highlight_color = highlight_color.clip(0, 255).astype(np.uint8)\n",
    "        img[X2, Y2] = highlight_color\n",
    "        return img"
   ]
  },
  {
   "cell_type": "code",
   "execution_count": 489,
   "id": "d1896d09",
   "metadata": {},
   "outputs": [],
   "source": [
    "env = RGBCustomColorPartialObsWrapper(EmptyRandomEnv(size=5), goal_color=\"purple\")"
   ]
  }
 ],
 "metadata": {
  "kernelspec": {
   "display_name": "Python 3 (ipykernel)",
   "language": "python",
   "name": "python3"
  },
  "language_info": {
   "codemirror_mode": {
    "name": "ipython",
    "version": 3
   },
   "file_extension": ".py",
   "mimetype": "text/x-python",
   "name": "python",
   "nbconvert_exporter": "python",
   "pygments_lexer": "ipython3",
   "version": "3.9.7"
  }
 },
 "nbformat": 4,
 "nbformat_minor": 5
}
